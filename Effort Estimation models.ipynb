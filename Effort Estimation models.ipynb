{
 "cells": [
  {
   "cell_type": "markdown",
   "id": "f23b1d65",
   "metadata": {},
   "source": [
    "#### importing necessary libraries"
   ]
  },
  {
   "cell_type": "code",
   "execution_count": 1,
   "id": "0e76c0c3",
   "metadata": {},
   "outputs": [],
   "source": [
    "import numpy as np\n",
    "import pandas as pd\n",
    "from sklearn.model_selection import train_test_split\n",
    "from sklearn.linear_model import LinearRegression\n",
    "from sklearn.tree import DecisionTreeRegressor\n",
    "from sklearn.neural_network import MLPRegressor\n",
    "from sklearn.svm import SVR\n",
    "from sklearn.metrics import mean_squared_error, r2_score, mean_absolute_error, mean_absolute_percentage_error\n",
    "from sklearn.preprocessing import StandardScaler\n",
    "from sklearn.svm import SVC"
   ]
  },
  {
   "cell_type": "code",
   "execution_count": 2,
   "id": "c721d276",
   "metadata": {},
   "outputs": [
    {
     "data": {
      "text/html": [
       "<div>\n",
       "<style scoped>\n",
       "    .dataframe tbody tr th:only-of-type {\n",
       "        vertical-align: middle;\n",
       "    }\n",
       "\n",
       "    .dataframe tbody tr th {\n",
       "        vertical-align: top;\n",
       "    }\n",
       "\n",
       "    .dataframe thead th {\n",
       "        text-align: right;\n",
       "    }\n",
       "</style>\n",
       "<table border=\"1\" class=\"dataframe\">\n",
       "  <thead>\n",
       "    <tr style=\"text-align: right;\">\n",
       "      <th></th>\n",
       "      <th>NOA</th>\n",
       "      <th>NEM</th>\n",
       "      <th>NSR</th>\n",
       "      <th>CP2</th>\n",
       "      <th>Effort (Actual)</th>\n",
       "    </tr>\n",
       "  </thead>\n",
       "  <tbody>\n",
       "    <tr>\n",
       "      <th>0</th>\n",
       "      <td>170</td>\n",
       "      <td>142</td>\n",
       "      <td>97</td>\n",
       "      <td>110.55</td>\n",
       "      <td>286.00</td>\n",
       "    </tr>\n",
       "    <tr>\n",
       "      <th>1</th>\n",
       "      <td>292</td>\n",
       "      <td>409</td>\n",
       "      <td>295</td>\n",
       "      <td>242.54</td>\n",
       "      <td>396.00</td>\n",
       "    </tr>\n",
       "    <tr>\n",
       "      <th>2</th>\n",
       "      <td>929</td>\n",
       "      <td>821</td>\n",
       "      <td>567</td>\n",
       "      <td>446.60</td>\n",
       "      <td>471.00</td>\n",
       "    </tr>\n",
       "    <tr>\n",
       "      <th>3</th>\n",
       "      <td>755</td>\n",
       "      <td>975</td>\n",
       "      <td>723</td>\n",
       "      <td>760.96</td>\n",
       "      <td>1016.00</td>\n",
       "    </tr>\n",
       "    <tr>\n",
       "      <th>4</th>\n",
       "      <td>1145</td>\n",
       "      <td>997</td>\n",
       "      <td>764</td>\n",
       "      <td>1242.60</td>\n",
       "      <td>1261.00</td>\n",
       "    </tr>\n",
       "    <tr>\n",
       "      <th>...</th>\n",
       "      <td>...</td>\n",
       "      <td>...</td>\n",
       "      <td>...</td>\n",
       "      <td>...</td>\n",
       "      <td>...</td>\n",
       "    </tr>\n",
       "    <tr>\n",
       "      <th>67</th>\n",
       "      <td>94</td>\n",
       "      <td>52</td>\n",
       "      <td>28</td>\n",
       "      <td>49.86</td>\n",
       "      <td>100.85</td>\n",
       "    </tr>\n",
       "    <tr>\n",
       "      <th>68</th>\n",
       "      <td>53</td>\n",
       "      <td>37</td>\n",
       "      <td>19</td>\n",
       "      <td>29.26</td>\n",
       "      <td>47.15</td>\n",
       "    </tr>\n",
       "    <tr>\n",
       "      <th>69</th>\n",
       "      <td>34</td>\n",
       "      <td>23</td>\n",
       "      <td>17</td>\n",
       "      <td>20.68</td>\n",
       "      <td>44.83</td>\n",
       "    </tr>\n",
       "    <tr>\n",
       "      <th>70</th>\n",
       "      <td>110</td>\n",
       "      <td>67</td>\n",
       "      <td>36</td>\n",
       "      <td>58.47</td>\n",
       "      <td>128.27</td>\n",
       "    </tr>\n",
       "    <tr>\n",
       "      <th>71</th>\n",
       "      <td>93</td>\n",
       "      <td>76</td>\n",
       "      <td>48</td>\n",
       "      <td>56.12</td>\n",
       "      <td>90.05</td>\n",
       "    </tr>\n",
       "  </tbody>\n",
       "</table>\n",
       "<p>72 rows × 5 columns</p>\n",
       "</div>"
      ],
      "text/plain": [
       "     NOA  NEM  NSR      CP2  Effort (Actual)\n",
       "0    170  142   97   110.55           286.00\n",
       "1    292  409  295   242.54           396.00\n",
       "2    929  821  567   446.60           471.00\n",
       "3    755  975  723   760.96          1016.00\n",
       "4   1145  997  764  1242.60          1261.00\n",
       "..   ...  ...  ...      ...              ...\n",
       "67    94   52   28    49.86           100.85\n",
       "68    53   37   19    29.26            47.15\n",
       "69    34   23   17    20.68            44.83\n",
       "70   110   67   36    58.47           128.27\n",
       "71    93   76   48    56.12            90.05\n",
       "\n",
       "[72 rows x 5 columns]"
      ]
     },
     "execution_count": 2,
     "metadata": {},
     "output_type": "execute_result"
    }
   ],
   "source": [
    "df = pd.read_csv('Effort estimation data set.csv')\n",
    "df"
   ]
  },
  {
   "cell_type": "markdown",
   "id": "287b44e1",
   "metadata": {},
   "source": [
    "#### Splitting the data into training and testing sets"
   ]
  },
  {
   "cell_type": "code",
   "execution_count": 3,
   "id": "15382e01",
   "metadata": {},
   "outputs": [],
   "source": [
    "X = df.drop(columns=['Effort (Actual)'])\n",
    "y = df['Effort (Actual)']\n",
    "X_train, X_test, y_train, y_test = train_test_split(X, y, test_size=0.2, random_state=42)"
   ]
  },
  {
   "cell_type": "markdown",
   "id": "76ce2df0",
   "metadata": {},
   "source": [
    "#### Linear Regression"
   ]
  },
  {
   "cell_type": "code",
   "execution_count": 4,
   "id": "d44284d7",
   "metadata": {},
   "outputs": [],
   "source": [
    "lr = LinearRegression()\n",
    "lr.fit(X_train, y_train)\n",
    "lr_pred = lr.predict(X_test)"
   ]
  },
  {
   "cell_type": "markdown",
   "id": "2b52ab3a",
   "metadata": {},
   "source": [
    "#### Decision Tree Regressor"
   ]
  },
  {
   "cell_type": "code",
   "execution_count": 5,
   "id": "8d71b4a6",
   "metadata": {},
   "outputs": [],
   "source": [
    "dt = DecisionTreeRegressor()\n",
    "dt.fit(X_train, y_train)\n",
    "dt_pred = dt.predict(X_test)"
   ]
  },
  {
   "cell_type": "markdown",
   "id": "cb399ad6",
   "metadata": {},
   "source": [
    "#### MLP Regressor"
   ]
  },
  {
   "cell_type": "code",
   "execution_count": 6,
   "id": "e35e449a",
   "metadata": {},
   "outputs": [],
   "source": [
    "mlp = MLPRegressor()\n",
    "mlp.fit(X_train, y_train)\n",
    "mlp_pred = mlp.predict(X_test)"
   ]
  },
  {
   "cell_type": "markdown",
   "id": "f64a6363",
   "metadata": {},
   "source": [
    "#### SVR"
   ]
  },
  {
   "cell_type": "code",
   "execution_count": 7,
   "id": "97b34956",
   "metadata": {},
   "outputs": [],
   "source": [
    "svr = SVR()\n",
    "svr.fit(X_train, y_train)\n",
    "svr_pred = svr.predict(X_test)"
   ]
  },
  {
   "cell_type": "markdown",
   "id": "e1fa0019",
   "metadata": {},
   "source": [
    "#### SMO with sigmoid kernel (SVR with sigmoid kernel)"
   ]
  },
  {
   "cell_type": "code",
   "execution_count": 8,
   "id": "d501a806",
   "metadata": {},
   "outputs": [],
   "source": [
    "scaler = StandardScaler()\n",
    "X_train_scaled = scaler.fit_transform(X_train)\n",
    "X_test_scaled = scaler.transform(X_test)\n",
    "\n",
    "svr_sigmoid = SVR(kernel='sigmoid')\n",
    "svr_sigmoid.fit(X_train_scaled, y_train)\n",
    "svr_sigmoid_pred = svr_sigmoid.predict(X_test_scaled)"
   ]
  },
  {
   "cell_type": "markdown",
   "id": "2554df0d",
   "metadata": {},
   "source": [
    "#### SMO with polynomial kernel (SVR with polynomial kernel)"
   ]
  },
  {
   "cell_type": "code",
   "execution_count": 9,
   "id": "4fe4dc30",
   "metadata": {},
   "outputs": [],
   "source": [
    "svr_poly = SVR(kernel='poly')\n",
    "svr_poly.fit(X_train_scaled, y_train)\n",
    "svr_poly_pred = svr_poly.predict(X_test_scaled)"
   ]
  },
  {
   "cell_type": "markdown",
   "id": "d38dd28b",
   "metadata": {},
   "source": [
    "#### SMO with RBF kernel (SVR with RBF kernel)"
   ]
  },
  {
   "cell_type": "code",
   "execution_count": 10,
   "id": "317f4669",
   "metadata": {},
   "outputs": [],
   "source": [
    "svr_rbf = SVR(kernel='rbf')\n",
    "svr_rbf.fit(X_train_scaled, y_train)\n",
    "svr_rbf_pred = svr_rbf.predict(X_test_scaled)"
   ]
  },
  {
   "cell_type": "markdown",
   "id": "f70834f3",
   "metadata": {},
   "source": [
    "#### Define a function to calculate performance metrics"
   ]
  },
  {
   "cell_type": "code",
   "execution_count": 11,
   "id": "0bba5ece",
   "metadata": {
    "scrolled": true
   },
   "outputs": [
    {
     "data": {
      "text/html": [
       "<div>\n",
       "<style scoped>\n",
       "    .dataframe tbody tr th:only-of-type {\n",
       "        vertical-align: middle;\n",
       "    }\n",
       "\n",
       "    .dataframe tbody tr th {\n",
       "        vertical-align: top;\n",
       "    }\n",
       "\n",
       "    .dataframe thead th {\n",
       "        text-align: right;\n",
       "    }\n",
       "</style>\n",
       "<table border=\"1\" class=\"dataframe\">\n",
       "  <thead>\n",
       "    <tr style=\"text-align: right;\">\n",
       "      <th></th>\n",
       "      <th>Model</th>\n",
       "      <th>Mean Absolute Error</th>\n",
       "      <th>Mean Squared Error</th>\n",
       "      <th>Mean Absolute Percentage Error</th>\n",
       "      <th>Normalized Mean Squared Error</th>\n",
       "      <th>R^2 Score</th>\n",
       "    </tr>\n",
       "  </thead>\n",
       "  <tbody>\n",
       "    <tr>\n",
       "      <th>0</th>\n",
       "      <td>Linear Regression</td>\n",
       "      <td>70.083731</td>\n",
       "      <td>7611.219923</td>\n",
       "      <td>0.657789</td>\n",
       "      <td>0.077788</td>\n",
       "      <td>0.922212</td>\n",
       "    </tr>\n",
       "    <tr>\n",
       "      <th>1</th>\n",
       "      <td>Decision Tree Regressor</td>\n",
       "      <td>67.349333</td>\n",
       "      <td>8986.279880</td>\n",
       "      <td>0.306945</td>\n",
       "      <td>0.091841</td>\n",
       "      <td>0.908159</td>\n",
       "    </tr>\n",
       "    <tr>\n",
       "      <th>2</th>\n",
       "      <td>MLP Regressor</td>\n",
       "      <td>92.254266</td>\n",
       "      <td>15511.235898</td>\n",
       "      <td>0.264007</td>\n",
       "      <td>0.158528</td>\n",
       "      <td>0.841472</td>\n",
       "    </tr>\n",
       "    <tr>\n",
       "      <th>3</th>\n",
       "      <td>SVR</td>\n",
       "      <td>235.431720</td>\n",
       "      <td>94979.271884</td>\n",
       "      <td>3.728616</td>\n",
       "      <td>0.970705</td>\n",
       "      <td>0.029295</td>\n",
       "    </tr>\n",
       "    <tr>\n",
       "      <th>4</th>\n",
       "      <td>SMO with Sigmoid Kernel</td>\n",
       "      <td>227.201465</td>\n",
       "      <td>88278.464248</td>\n",
       "      <td>3.622396</td>\n",
       "      <td>0.902221</td>\n",
       "      <td>0.097779</td>\n",
       "    </tr>\n",
       "    <tr>\n",
       "      <th>5</th>\n",
       "      <td>SMO with polynomial Kernel</td>\n",
       "      <td>161.270747</td>\n",
       "      <td>34556.725266</td>\n",
       "      <td>2.677129</td>\n",
       "      <td>0.353176</td>\n",
       "      <td>0.646824</td>\n",
       "    </tr>\n",
       "    <tr>\n",
       "      <th>6</th>\n",
       "      <td>SMO with RBF Kernel</td>\n",
       "      <td>235.167226</td>\n",
       "      <td>94876.092943</td>\n",
       "      <td>3.721497</td>\n",
       "      <td>0.969650</td>\n",
       "      <td>0.030350</td>\n",
       "    </tr>\n",
       "  </tbody>\n",
       "</table>\n",
       "</div>"
      ],
      "text/plain": [
       "                        Model  Mean Absolute Error  Mean Squared Error  \\\n",
       "0           Linear Regression            70.083731         7611.219923   \n",
       "1     Decision Tree Regressor            67.349333         8986.279880   \n",
       "2               MLP Regressor            92.254266        15511.235898   \n",
       "3                         SVR           235.431720        94979.271884   \n",
       "4     SMO with Sigmoid Kernel           227.201465        88278.464248   \n",
       "5  SMO with polynomial Kernel           161.270747        34556.725266   \n",
       "6         SMO with RBF Kernel           235.167226        94876.092943   \n",
       "\n",
       "   Mean Absolute Percentage Error  Normalized Mean Squared Error  R^2 Score  \n",
       "0                        0.657789                       0.077788   0.922212  \n",
       "1                        0.306945                       0.091841   0.908159  \n",
       "2                        0.264007                       0.158528   0.841472  \n",
       "3                        3.728616                       0.970705   0.029295  \n",
       "4                        3.622396                       0.902221   0.097779  \n",
       "5                        2.677129                       0.353176   0.646824  \n",
       "6                        3.721497                       0.969650   0.030350  "
      ]
     },
     "execution_count": 11,
     "metadata": {},
     "output_type": "execute_result"
    }
   ],
   "source": [
    "# Define a function to calculate normalized mean squared error\n",
    "def normalized_mean_squared_error(y_true, y_pred):\n",
    "    return mean_squared_error(y_true, y_pred) / np.var(y_true)\n",
    "\n",
    "def evaluate_performance(y_true, y_pred):\n",
    "    mae = mean_absolute_error(y_true, y_pred)\n",
    "    mse = mean_squared_error(y_true, y_pred)\n",
    "    mape = mean_absolute_percentage_error(y_true, y_pred)\n",
    "    nmse = normalized_mean_squared_error(y_true, y_pred)\n",
    "    r2 = r2_score(y_true, y_pred)\n",
    "    return mae, mse, mape, nmse, r2\n",
    "\n",
    "# Evaluate performance metrics for the models\n",
    "models = [lr, dt, mlp, svr, svr_sigmoid, svr_poly, svr_rbf]\n",
    "predictions = [lr_pred, dt_pred, mlp_pred, svr_pred, svr_sigmoid_pred, svr_poly_pred, svr_rbf_pred]\n",
    "model_names = ['Linear Regression', 'Decision Tree Regressor', 'MLP Regressor', 'SVR', 'SMO with Sigmoid Kernel', 'SMO with polynomial Kernel', 'SMO with RBF Kernel']\n",
    "\n",
    "results = []\n",
    "for model, pred, name in zip(models, predictions, model_names):\n",
    "    mae, mse, mape, nmse, r2 = evaluate_performance(y_test, pred)\n",
    "    results.append([name, mae, mse, mape, nmse, r2])\n",
    "\n",
    "# Create DataFrame from results\n",
    "df_results = pd.DataFrame(results, columns=[\"Model\", \"Mean Absolute Error\", \"Mean Squared Error\", \"Mean Absolute Percentage Error\", \"Normalized Mean Squared Error\", \"R^2 Score\"])\n",
    "df_results"
   ]
  }
 ],
 "metadata": {
  "kernelspec": {
   "display_name": "Python 3 (ipykernel)",
   "language": "python",
   "name": "python3"
  },
  "language_info": {
   "codemirror_mode": {
    "name": "ipython",
    "version": 3
   },
   "file_extension": ".py",
   "mimetype": "text/x-python",
   "name": "python",
   "nbconvert_exporter": "python",
   "pygments_lexer": "ipython3",
   "version": "3.10.9"
  }
 },
 "nbformat": 4,
 "nbformat_minor": 5
}
