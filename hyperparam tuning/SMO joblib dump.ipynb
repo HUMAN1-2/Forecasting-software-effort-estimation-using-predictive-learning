{
 "cells": [
  {
   "cell_type": "code",
   "execution_count": null,
   "id": "df861f6e",
   "metadata": {},
   "outputs": [],
   "source": [
    "import pandas as pd\n",
    "from sklearn.model_selection import train_test_split\n",
    "from sklearn.svm import SVR\n",
    "\n",
    "# Load the dataset\n",
    "df = pd.read_csv('Effort estimation data set.csv')\n",
    "\n",
    "# Split the dataset into features (X) and the target variable (y)\n",
    "X = df.drop(columns=['Effort (Actual)'])\n",
    "y = df['Effort (Actual)']\n",
    "\n",
    "# Split the data into training and testing sets\n",
    "X_train, X_test, y_train, y_test = train_test_split(X, y, test_size=0.2, random_state=42)\n",
    "\n",
    "# Define and train the SVR model with polynomial kernel\n",
    "svr_poly_model = SVR(kernel='poly', C=10.0, coef0=0.5, degree=2, gamma=1.0, max_iter=-1, tol=0.01)\n",
    "svr_poly_model.fit(X_train, y_train)\n",
    "\n",
    "# Make predictions on the test set\n",
    "y_pred = svr_poly_model.predict(X_test)\n",
    "\n",
    "# Calculate the Mean Squared Error\n",
    "mse = mean_squared_error(y_test, y_pred)\n",
    "print(\"Mean Squared Error:\", mse)\n"
   ]
  },
  {
   "cell_type": "code",
   "execution_count": null,
   "id": "22a8446e",
   "metadata": {},
   "outputs": [],
   "source": []
  }
 ],
 "metadata": {
  "kernelspec": {
   "display_name": "Python 3 (ipykernel)",
   "language": "python",
   "name": "python3"
  },
  "language_info": {
   "codemirror_mode": {
    "name": "ipython",
    "version": 3
   },
   "file_extension": ".py",
   "mimetype": "text/x-python",
   "name": "python",
   "nbconvert_exporter": "python",
   "pygments_lexer": "ipython3",
   "version": "3.10.9"
  }
 },
 "nbformat": 4,
 "nbformat_minor": 5
}
